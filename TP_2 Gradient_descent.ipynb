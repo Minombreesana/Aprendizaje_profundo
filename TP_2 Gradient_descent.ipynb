{
 "cells": [
  {
   "cell_type": "code",
   "execution_count": 77,
   "id": "4b7593d9",
   "metadata": {},
   "outputs": [],
   "source": [
    "import numpy as np\n",
    "import matplotlib.pyplot as plt"
   ]
  },
  {
   "cell_type": "markdown",
   "id": "06d87aa7",
   "metadata": {},
   "source": [
    "## 1) SGD máximo de una función"
   ]
  },
  {
   "cell_type": "markdown",
   "id": "a515dc91",
   "metadata": {},
   "source": [
    "#### Gráfica de la función"
   ]
  },
  {
   "cell_type": "code",
   "execution_count": 59,
   "id": "a9a81336",
   "metadata": {},
   "outputs": [
    {
     "data": {
      "text/plain": [
       "<matplotlib.lines.Line2D at 0x251408d34c0>"
      ]
     },
     "execution_count": 59,
     "metadata": {},
     "output_type": "execute_result"
    },
    {
     "data": {
      "image/png": "[encoded data removed]",
      "text/plain": [
       "<Figure size 432x288 with 1 Axes>"
      ]
     },
     "metadata": {
      "needs_background": "light"
     },
     "output_type": "display_data"
    }
   ],
   "source": [
    "x = np.linspace(-1,5,100)\n",
    "y = -(x-2)**2 + 3\n",
    "\n",
    "fig, ax =plt.subplots()\n",
    "\n",
    "ax.plot(x,y)\n",
    "ax.grid()\n",
    "ax.axhline(y=0, color ='r')\n",
    "ax.axvline(x=0, color='r')"
   ]
  },
  {
   "cell_type": "markdown",
   "id": "9ab0daf7",
   "metadata": {},
   "source": [
    "#### Implementación SGD para encontrar un máximo."
   ]
  },
  {
   "cell_type": "code",
   "execution_count": 54,
   "id": "4427dcd6",
   "metadata": {},
   "outputs": [],
   "source": [
    "def gradient_descent(gradient, start, lr, epochs):\n",
    "    x_value = start\n",
    "    for epoch in range(epochs):\n",
    "        diff = lr * gradient(x_value)\n",
    "        x_value += diff\n",
    "        y = -(x_value-2)**2 + 3\n",
    "        if(epoch % 20 == 0):\n",
    "            print(f'In epoch {epoch}, the gradient is {diff} for x = {x_value} and y = {y}')\n",
    "            print()\n",
    "    return x_value"
   ]
  },
  {
   "cell_type": "code",
   "execution_count": 55,
   "id": "6318fff3",
   "metadata": {},
   "outputs": [
    {
     "name": "stdout",
     "output_type": "stream",
     "text": [
      "In epoch 0, the gradient is -19.6 for x = 80.4 and y = -6143.560000000001\n",
      "\n",
      "In epoch 20, the gradient is -0.22597261490294207 for x = 2.9038904596117683 and y = 2.1829820370228266\n",
      "\n",
      "In epoch 40, the gradient is -0.0026052868717384215 for x = 2.0104211474869538 and y = 2.999891399685055\n",
      "\n",
      "In epoch 60, the gradient is -3.0036912600994728e-05 for x = 2.000120147650404 and y = 2.9999999855645423\n",
      "\n",
      "In epoch 80, the gradient is -3.4630202474517094e-07 for x = 2.000001385208099 and y = 2.999999999998081\n",
      "\n",
      "In epoch 100, the gradient is -3.992590524859452e-09 for x = 2.000000015970362 and y = 2.9999999999999996\n",
      "\n",
      "In epoch 120, the gradient is -4.603144532211445e-11 for x = 2.0000000001841256 and y = 3.0\n",
      "\n",
      "In epoch 140, the gradient is -5.306866057708248e-13 for x = 2.0000000000021227 and y = 3.0\n",
      "\n",
      "In epoch 160, the gradient is -6.1284310959308644e-15 for x = 2.0000000000000244 and y = 3.0\n",
      "\n",
      "In epoch 180, the gradient is -1.7763568394002506e-16 for x = 2.000000000000001 and y = 3.0\n",
      "\n"
     ]
    },
    {
     "data": {
      "text/plain": [
       "2.000000000000001"
      ]
     },
     "execution_count": 55,
     "metadata": {},
     "output_type": "execute_result"
    }
   ],
   "source": [
    "gradient_descent(gradient = lambda x: -2 *x + 4, start=100, lr = 0.1, epochs = 200)"
   ]
  },
  {
   "cell_type": "markdown",
   "id": "d25507f9",
   "metadata": {},
   "source": [
    "a) El valor máximo que encontró el algortimo es 3 para el valor x= 2. Esto lo podemos verificar en la gráfica de la función arriba. \n",
    "\n",
    "b) Me quedé con 200 epochs porque hacia la epoch 120 ya había encontrado el máximo pero fue aproximando mejor el valor de x ya hacia la epoch número 180. \n",
    "\n",
    "c) Inicialicé el valor de x en un punto lejano del máximo para ver cómo convergía con un learning rate alto. Al ser una función sencilla no ví necesario usar un lr más pequeño sino reducir la cantidad de epochs. \n",
    "\n",
    "d) Los hiperparámetros del algortimo son: el learning rate, el valor inicial de x y las epochs. "
   ]
  },
  {
   "cell_type": "markdown",
   "id": "7b61a194",
   "metadata": {},
   "source": [
    "## 2) Mini-batch Gradient Descenct"
   ]
  },
  {
   "cell_type": "markdown",
   "id": "66084722",
   "metadata": {},
   "source": [
    "#### Creación del dataset"
   ]
  },
  {
   "cell_type": "code",
   "execution_count": 131,
   "id": "41068ea4",
   "metadata": {},
   "outputs": [],
   "source": [
    "x = np.linspace(0,4,10000)\n",
    "y = -(x-2)**2 +3 + 0.2 * np.sin(16 * x)\n",
    "y = y.reshape(10000,1)"
   ]
  },
  {
   "cell_type": "code",
   "execution_count": 132,
   "id": "727ac6ba",
   "metadata": {},
   "outputs": [
    {
     "data": {
      "text/plain": [
       "(10000,)"
      ]
     },
     "execution_count": 132,
     "metadata": {},
     "output_type": "execute_result"
    }
   ],
   "source": [
    "x.shape"
   ]
  },
  {
   "cell_type": "code",
   "execution_count": 133,
   "id": "9b50dbce",
   "metadata": {},
   "outputs": [
    {
     "data": {
      "text/plain": [
       "(10000, 1)"
      ]
     },
     "execution_count": 133,
     "metadata": {},
     "output_type": "execute_result"
    }
   ],
   "source": [
    "y.shape"
   ]
  },
  {
   "cell_type": "code",
   "execution_count": 183,
   "id": "2f4923d6",
   "metadata": {},
   "outputs": [
    {
     "data": {
      "text/plain": [
       "<matplotlib.lines.Line2D at 0x25178235f70>"
      ]
     },
     "execution_count": 183,
     "metadata": {},
     "output_type": "execute_result"
    },
    {
     "data": {
      "image/png": "[encoded data removed]",
      "text/plain": [
       "<Figure size 432x288 with 1 Axes>"
      ]
     },
     "metadata": {
      "needs_background": "light"
     },
     "output_type": "display_data"
    }
   ],
   "source": [
    "fig, ax =plt.subplots()\n",
    "\n",
    "ax.scatter(x,y, color = 'orange')\n",
    "ax.grid()\n",
    "ax.axhline(y=0, color ='r')\n",
    "ax.axvline(x=0, color='r')"
   ]
  },
  {
   "cell_type": "markdown",
   "id": "bea0f192",
   "metadata": {},
   "source": [
    " Agrego una columna con los $x^2$ y una columna de 1 para poder simular la relación de salida con la entrada del modelo y actualizar los pesos."
   ]
  },
  {
   "cell_type": "code",
   "execution_count": 157,
   "id": "817d7e36",
   "metadata": {},
   "outputs": [],
   "source": [
    "x_2 = x**2\n",
    "ones = np.ones(10000)\n",
    "X = np.column_stack((x_2,x,ones))"
   ]
  },
  {
   "cell_type": "code",
   "execution_count": 158,
   "id": "88556716",
   "metadata": {},
   "outputs": [
    {
     "data": {
      "text/plain": [
       "(10000, 3)"
      ]
     },
     "execution_count": 158,
     "metadata": {},
     "output_type": "execute_result"
    }
   ],
   "source": [
    "X.shape"
   ]
  },
  {
   "cell_type": "code",
   "execution_count": 159,
   "id": "4cb78f62",
   "metadata": {},
   "outputs": [
    {
     "data": {
      "text/plain": [
       "(10000, 1)"
      ]
     },
     "execution_count": 159,
     "metadata": {},
     "output_type": "execute_result"
    }
   ],
   "source": [
    "y.shape"
   ]
  },
  {
   "cell_type": "markdown",
   "id": "098fbb4c",
   "metadata": {},
   "source": [
    "#### Mini-batch Gradient Descent"
   ]
  },
  {
   "cell_type": "code",
   "execution_count": 189,
   "id": "ce106e0e",
   "metadata": {},
   "outputs": [],
   "source": [
    "def mini_batch_gradient_descent(X, y, lr, epochs, b):\n",
    "\n",
    "    mse_historic = []\n",
    "    n = X.shape[0]\n",
    "    m = X.shape[1]\n",
    "\n",
    "    W = np.random.randn(m).reshape(m, 1)\n",
    "\n",
    "    for epoch in range(epochs):\n",
    "         \n",
    "        idx = np.random.permutation(X.shape[0])\n",
    "        X = X[idx]\n",
    "        y = y[idx]\n",
    "\n",
    "        batch_size = int(len(X) / b)\n",
    " \n",
    "        for i in range(0, len(X), batch_size):\n",
    "            \n",
    "            end = i + batch_size if i + batch_size <= len(X) else len(X)\n",
    "            batch_X = X[i: end] \n",
    "            batch_y = y[i: end] \n",
    "\n",
    "            prediction = np.matmul(batch_X, W)\n",
    "            \n",
    "            error = (batch_y - prediction)\n",
    "\n",
    "            grad_sum = np.sum(error * batch_X, axis=0) \n",
    "            grad_mul = -2/batch_size * grad_sum  \n",
    "            gradient = (np.transpose(grad_mul)).reshape(m,1)  \n",
    "            \n",
    "            W = W - (lr * gradient)\n",
    "        \n",
    "        mse = 1/X.shape[0] * (np.sum(error))\n",
    "        mse_historic.append(mse)\n",
    "        if(epoch % 100 == 0):\n",
    "            print(f\"mse on epoch {epoch} is {mse:5.3f}\")\n",
    "\n",
    "    return W, mse_historic"
   ]
  },
  {
   "cell_type": "code",
   "execution_count": 190,
   "id": "d322a0fa",
   "metadata": {},
   "outputs": [
    {
     "name": "stdout",
     "output_type": "stream",
     "text": [
      "mse on epoch 0 is 0.354\n",
      "mse on epoch 100 is 0.007\n",
      "mse on epoch 200 is -0.008\n",
      "mse on epoch 300 is -0.008\n",
      "mse on epoch 400 is -0.011\n",
      "mse on epoch 500 is -0.007\n",
      "mse on epoch 600 is -0.006\n",
      "mse on epoch 700 is -0.006\n",
      "mse on epoch 800 is -0.004\n",
      "mse on epoch 900 is -0.008\n",
      "mse on epoch 1000 is -0.006\n",
      "mse on epoch 1100 is -0.005\n",
      "mse on epoch 1200 is -0.005\n",
      "mse on epoch 1300 is -0.004\n",
      "mse on epoch 1400 is -0.004\n",
      "mse on epoch 1500 is -0.004\n",
      "mse on epoch 1600 is -0.004\n",
      "mse on epoch 1700 is -0.003\n",
      "mse on epoch 1800 is -0.003\n",
      "mse on epoch 1900 is -0.002\n",
      "mse on epoch 2000 is -0.003\n",
      "mse on epoch 2100 is -0.002\n",
      "mse on epoch 2200 is -0.001\n",
      "mse on epoch 2300 is -0.001\n",
      "mse on epoch 2400 is -0.002\n",
      "mse on epoch 2500 is -0.001\n",
      "mse on epoch 2600 is -0.002\n",
      "mse on epoch 2700 is -0.000\n",
      "mse on epoch 2800 is 0.000\n",
      "mse on epoch 2900 is -0.000\n",
      "mse on epoch 3000 is -0.000\n",
      "mse on epoch 3100 is -0.000\n",
      "mse on epoch 3200 is -0.001\n",
      "mse on epoch 3300 is 0.000\n",
      "mse on epoch 3400 is -0.001\n",
      "mse on epoch 3500 is -0.000\n",
      "mse on epoch 3600 is 0.000\n",
      "mse on epoch 3700 is -0.000\n",
      "mse on epoch 3800 is -0.001\n",
      "mse on epoch 3900 is -0.000\n",
      "mse on epoch 4000 is -0.000\n",
      "mse on epoch 4100 is -0.000\n",
      "mse on epoch 4200 is 0.001\n",
      "mse on epoch 4300 is -0.000\n",
      "mse on epoch 4400 is 0.001\n",
      "mse on epoch 4500 is 0.000\n",
      "mse on epoch 4600 is -0.000\n",
      "mse on epoch 4700 is 0.000\n",
      "mse on epoch 4800 is -0.000\n",
      "mse on epoch 4900 is 0.000\n"
     ]
    }
   ],
   "source": [
    "W, mse_historic = mini_batch_gradient_descent(X, y, lr=0.001, epochs=5000, b=10)"
   ]
  },
  {
   "cell_type": "code",
   "execution_count": 194,
   "id": "97f17853",
   "metadata": {},
   "outputs": [
    {
     "data": {
      "text/plain": [
       "array([[-0.99012171],\n",
       "       [ 3.9520006 ],\n",
       "       [-0.95313965]])"
      ]
     },
     "execution_count": 194,
     "metadata": {},
     "output_type": "execute_result"
    }
   ],
   "source": [
    "# Parámentros optimizados\n",
    "W"
   ]
  },
  {
   "cell_type": "code",
   "execution_count": 191,
   "id": "c57695c0",
   "metadata": {},
   "outputs": [
    {
     "data": {
      "text/plain": [
       "<matplotlib.lines.Line2D at 0x25176ef77c0>"
      ]
     },
     "execution_count": 191,
     "metadata": {},
     "output_type": "execute_result"
    },
    {
     "data": {
      "image/png": "[encoded data removed]",
      "text/plain": [
       "<Figure size 432x288 with 1 Axes>"
      ]
     },
     "metadata": {
      "needs_background": "light"
     },
     "output_type": "display_data"
    }
   ],
   "source": [
    "y_hat = X.dot(W)\n",
    "\n",
    "fig, ax =plt.subplots()\n",
    "\n",
    "ax.plot(x,y_hat, color = 'g')\n",
    "ax.scatter(x,y, color = 'orange')\n",
    "ax.grid()\n",
    "ax.axhline(y=0, color ='r')\n",
    "ax.axvline(x=0, color='r')"
   ]
  },
  {
   "cell_type": "code",
   "execution_count": 192,
   "id": "d24d6f09",
   "metadata": {},
   "outputs": [
    {
     "data": {
      "image/png": "[encoded data removed]",
      "text/plain": [
       "<Figure size 864x576 with 1 Axes>"
      ]
     },
     "metadata": {
      "needs_background": "light"
     },
     "output_type": "display_data"
    }
   ],
   "source": [
    "plt.figure(figsize=(12,8))\n",
    "plt.plot(mse_historic, color='blue', label='mse')\n",
    "plt.grid(True)\n",
    "plt.legend()\n",
    "plt.show()"
   ]
  },
  {
   "cell_type": "markdown",
   "id": "781b8d0d",
   "metadata": {},
   "source": [
    "La regla de actualización de cada parámetro es la misma para el GD y el SGD: w_actual - (learning_rate * gradiente)"
   ]
  }
 ],
 "metadata": {
  "kernelspec": {
   "display_name": "ap",
   "language": "python",
   "name": "ap"
  },
  "language_info": {
   "codemirror_mode": {
    "name": "ipython",
    "version": 3
   },
   "file_extension": ".py",
   "mimetype": "text/x-python",
   "name": "python",
   "nbconvert_exporter": "python",
   "pygments_lexer": "ipython3",
   "version": "3.9.1"
  }
 },
 "nbformat": 4,
 "nbformat_minor": 5
}
