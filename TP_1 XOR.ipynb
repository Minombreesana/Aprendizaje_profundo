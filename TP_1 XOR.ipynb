{
 "cells": [
  {
   "cell_type": "code",
   "execution_count": 9,
   "id": "4d281266",
   "metadata": {},
   "outputs": [],
   "source": [
    "import numpy as np\n",
    "import matplotlib.pyplot as plt"
   ]
  },
  {
   "cell_type": "markdown",
   "id": "c52e606b",
   "metadata": {},
   "source": [
    "# CLASE 1"
   ]
  },
  {
   "cell_type": "markdown",
   "id": "f69affe2",
   "metadata": {},
   "source": [
    "### 1) Implementación SGD para resolver XOR"
   ]
  },
  {
   "cell_type": "markdown",
   "id": "53fd6f42",
   "metadata": {},
   "source": [
    "#### Inicializamos parámetros"
   ]
  },
  {
   "cell_type": "code",
   "execution_count": 10,
   "id": "0ce4266d",
   "metadata": {},
   "outputs": [],
   "source": [
    "#Layer 1\n",
    "\n",
    "W1_1 = np.random.rand(1)\n",
    "W2_1 = np.random.rand(1)\n",
    "W3_1 = np.random.rand(1)\n",
    "W4_1 = np.random.rand(1)\n",
    "b1_1 = np.random.rand(1)\n",
    "b1_2 = np.random.rand(1)\n",
    "\n",
    "#Layer 2\n",
    "\n",
    "W1_2 = np.random.rand(1)\n",
    "W2_2 = np.random.rand(1)\n",
    "b2_1 = np.random.rand(1)"
   ]
  },
  {
   "cell_type": "code",
   "execution_count": 11,
   "id": "2333688f",
   "metadata": {},
   "outputs": [],
   "source": [
    "X = np.array([[0,0],[0,1],[1,0],[1,1]])\n",
    "y = np.array([[0],[1],[1],[0]])"
   ]
  },
  {
   "cell_type": "code",
   "execution_count": 12,
   "id": "756ebe5c",
   "metadata": {},
   "outputs": [
    {
     "name": "stdout",
     "output_type": "stream",
     "text": [
      "mse on epoch 0 is 0.837\n",
      "mse on epoch 20 is 0.090\n",
      "mse on epoch 40 is 0.076\n",
      "mse on epoch 60 is 0.076\n",
      "mse on epoch 80 is 0.076\n",
      "mse on epoch 100 is 0.076\n",
      "mse on epoch 120 is 0.076\n",
      "mse on epoch 140 is 0.076\n",
      "mse on epoch 160 is 0.076\n",
      "mse on epoch 180 is 0.076\n",
      "mse on epoch 200 is 0.076\n",
      "mse on epoch 220 is 0.076\n",
      "mse on epoch 240 is 0.076\n",
      "mse on epoch 260 is 0.076\n",
      "mse on epoch 280 is 0.076\n",
      "mse on epoch 300 is 0.076\n",
      "mse on epoch 320 is 0.076\n",
      "mse on epoch 340 is 0.076\n",
      "mse on epoch 360 is 0.076\n",
      "mse on epoch 380 is 0.076\n",
      "mse on epoch 400 is 0.076\n",
      "mse on epoch 420 is 0.076\n",
      "mse on epoch 440 is 0.076\n",
      "mse on epoch 460 is 0.076\n",
      "mse on epoch 480 is 0.076\n",
      "mse on epoch 500 is 0.076\n",
      "mse on epoch 520 is 0.076\n",
      "mse on epoch 540 is 0.076\n",
      "mse on epoch 560 is 0.076\n",
      "mse on epoch 580 is 0.076\n",
      "mse on epoch 600 is 0.076\n",
      "mse on epoch 620 is 0.076\n",
      "mse on epoch 640 is 0.076\n",
      "mse on epoch 660 is 0.076\n",
      "mse on epoch 680 is 0.076\n",
      "mse on epoch 700 is 0.076\n",
      "mse on epoch 720 is 0.076\n",
      "mse on epoch 740 is 0.076\n",
      "mse on epoch 760 is 0.076\n",
      "mse on epoch 780 is 0.076\n",
      "mse on epoch 800 is 0.076\n",
      "mse on epoch 820 is 0.076\n",
      "mse on epoch 840 is 0.076\n",
      "mse on epoch 860 is 0.076\n",
      "mse on epoch 880 is 0.076\n",
      "mse on epoch 900 is 0.076\n",
      "mse on epoch 920 is 0.076\n",
      "mse on epoch 940 is 0.076\n",
      "mse on epoch 960 is 0.076\n",
      "mse on epoch 980 is 0.076\n",
      "mse on epoch 1000 is 0.076\n",
      "mse on epoch 1020 is 0.076\n",
      "mse on epoch 1040 is 0.076\n",
      "mse on epoch 1060 is 0.076\n",
      "mse on epoch 1080 is 0.076\n",
      "mse on epoch 1100 is 0.076\n",
      "mse on epoch 1120 is 0.076\n",
      "mse on epoch 1140 is 0.076\n",
      "mse on epoch 1160 is 0.076\n",
      "mse on epoch 1180 is 0.076\n",
      "mse on epoch 1200 is 0.076\n",
      "mse on epoch 1220 is 0.076\n",
      "mse on epoch 1240 is 0.076\n",
      "mse on epoch 1260 is 0.076\n",
      "mse on epoch 1280 is 0.076\n",
      "mse on epoch 1300 is 0.076\n",
      "mse on epoch 1320 is 0.076\n",
      "mse on epoch 1340 is 0.076\n",
      "mse on epoch 1360 is 0.076\n",
      "mse on epoch 1380 is 0.077\n",
      "mse on epoch 1400 is 0.077\n",
      "mse on epoch 1420 is 0.077\n",
      "mse on epoch 1440 is 0.077\n",
      "mse on epoch 1460 is 0.077\n",
      "mse on epoch 1480 is 0.077\n",
      "mse on epoch 1500 is 0.077\n",
      "mse on epoch 1520 is 0.077\n",
      "mse on epoch 1540 is 0.077\n",
      "mse on epoch 1560 is 0.077\n",
      "mse on epoch 1580 is 0.077\n",
      "mse on epoch 1600 is 0.077\n",
      "mse on epoch 1620 is 0.077\n",
      "mse on epoch 1640 is 0.077\n",
      "mse on epoch 1660 is 0.077\n",
      "mse on epoch 1680 is 0.077\n",
      "mse on epoch 1700 is 0.078\n",
      "mse on epoch 1720 is 0.078\n",
      "mse on epoch 1740 is 0.078\n",
      "mse on epoch 1760 is 0.078\n",
      "mse on epoch 1780 is 0.078\n",
      "mse on epoch 1800 is 0.078\n",
      "mse on epoch 1820 is 0.078\n",
      "mse on epoch 1840 is 0.078\n",
      "mse on epoch 1860 is 0.078\n",
      "mse on epoch 1880 is 0.078\n",
      "mse on epoch 1900 is 0.078\n",
      "mse on epoch 1920 is 0.078\n",
      "mse on epoch 1940 is 0.078\n",
      "mse on epoch 1960 is 0.079\n",
      "mse on epoch 1980 is 0.079\n"
     ]
    }
   ],
   "source": [
    "mse_historic = []\n",
    "\n",
    "for epochs in range(2000):\n",
    "    \n",
    "    for i in range(4):\n",
    "        lr = 0.01\n",
    "        z1_1 = (X[i,0] * W1_1) + (X[i,1] * W2_1) + b1_1\n",
    "        z1_2 = (X[i,0] * W3_1) + (X[i,1] * W4_1) + b1_2 \n",
    "        a_1 = 1 / (1 + np.exp(-z1_1))\n",
    "        a_2 = 1 / (1 + np.exp(-z1_2))\n",
    "        yhat = (a_1 * W1_2) + (a_2 * W2_2) + b2_1\n",
    "        #definir el error\n",
    "        error = (yhat - y[i])**2\n",
    "        #calcular derivada\n",
    "        dc = 2 * (yhat - y[i])\n",
    "        dz_a1 = W1_2\n",
    "        dz_a2 = W2_2\n",
    "        da1 = np.exp(-z1_1)/(( np.exp(-z1_1) +1)**2)\n",
    "        da2 = np.exp(-z1_2)/(( np.exp(-z1_2) +1)**2)\n",
    "        dw1_1 = dc * dz_a1 * da1 * X[i,0]\n",
    "        dw2_1 = dc * dz_a1 * da1 * X[i,1]\n",
    "        dw3_1 = dc * dz_a2 * da2 * X[i,0]\n",
    "        dw4_1 = dc * dz_a2 * da2 * X[i,1]\n",
    "        db1_1 = dc * dz_a1 * da1\n",
    "        db1_2 = dc * dz_a2 * da2\n",
    "        dw1_2 = dc * a_1\n",
    "        dw2_2 = dc * a_2\n",
    "        db2_1 = dc\n",
    "        \n",
    "        #actualizar parámetros\n",
    "        W1_1 = W1_1 - (lr * dw1_1)\n",
    "        W2_1 = W2_1 - (lr * dw2_1)\n",
    "        W3_1 = W3_1 - (lr * dw3_1)\n",
    "        W4_1 = W4_1 - (lr * dw4_1)\n",
    "        b1_1 = b1_1 - (lr * db1_1)\n",
    "        b1_2 = b1_2 - (lr * db1_2)\n",
    "        W1_2 = W1_2 - (lr * dw1_2)\n",
    "        W2_2 = W2_2 - (lr * dw2_2)\n",
    "        b2_1 = b2_1 - (lr * db2_1)\n",
    "\n",
    "        \n",
    "    mse = 1/4 * (np.sum(error))\n",
    "    mse_historic.append(mse)\n",
    "    if(epochs % 20 == 0):\n",
    "        print(f\"mse on epoch {epochs} is {mse:5.3f}\")\n",
    "        \n"
   ]
  },
  {
   "cell_type": "code",
   "execution_count": 13,
   "id": "39dcdcd0",
   "metadata": {},
   "outputs": [
    {
     "data": {
      "image/png": "[encoded data removed]",
      "text/plain": [
       "<Figure size 864x576 with 1 Axes>"
      ]
     },
     "metadata": {
      "needs_background": "light"
     },
     "output_type": "display_data"
    }
   ],
   "source": [
    "plt.figure(figsize=(12,8))\n",
    "plt.plot(mse_historic, color='blue', label='mse')\n",
    "plt.grid(True)\n",
    "plt.legend()\n",
    "plt.show()"
   ]
  },
  {
   "cell_type": "markdown",
   "id": "46eed72f",
   "metadata": {},
   "source": [
    "b)El modelo tiene 9 parámetros desconocidos: 4 pesos y dos bias en la primera capa + 2 pesos y un bias en la segunda. \n",
    "\n",
    "c) Los hiperparámetros del modelos son: los epochs y el learning rate. \n",
    "\n",
    "Cuando se cambia el lr hacia un valor grande como 0.1, converge más rápido a un mínimo local pero se estanca en él. Cuando lo ponemos en un valor muy muy pequeño, le cuesta converger a algún mínimo, en ese caso toca compensar con más epochs. En este modelo me resultó muy bien el lr = 0.001 con 300 epochs. "
   ]
  },
  {
   "cell_type": "markdown",
   "id": "00162904",
   "metadata": {},
   "source": [
    "d) Predicción"
   ]
  },
  {
   "cell_type": "code",
   "execution_count": 14,
   "id": "21453fc2",
   "metadata": {},
   "outputs": [],
   "source": [
    "X_test = np.array([[0,1],[0,0],[1,1],[0,1]])\n",
    "y_test = np.array([[1],[0],[0],[1]])"
   ]
  },
  {
   "cell_type": "markdown",
   "id": "a262a72c",
   "metadata": {},
   "source": [
    "Parámetros que obtenemos del modelo"
   ]
  },
  {
   "cell_type": "code",
   "execution_count": 15,
   "id": "44d253a5",
   "metadata": {},
   "outputs": [
    {
     "name": "stdout",
     "output_type": "stream",
     "text": [
      "[0.78795486]\n",
      "[0.03377369]\n",
      "[0.81864642]\n",
      "[0.91130304]\n",
      "[0.06342869]\n",
      "[0.61528331]\n",
      "[-0.16451875]\n",
      "[0.45941584]\n",
      "[0.2321775]\n"
     ]
    }
   ],
   "source": [
    "print(W1_1)\n",
    "print(W2_1)\n",
    "print(W3_1)\n",
    "print(W4_1)\n",
    "print(b1_1)\n",
    "print(b1_2)\n",
    "print(W1_2)\n",
    "print(W2_2)\n",
    "print(b2_1)     "
   ]
  },
  {
   "cell_type": "code",
   "execution_count": 16,
   "id": "b7c3843e",
   "metadata": {},
   "outputs": [
    {
     "name": "stdout",
     "output_type": "stream",
     "text": [
      "Predicción: [0.44553771]\n",
      "error [0.19850385]\n",
      "Predicción: [0.52333637]\n",
      "error [0.22720821]\n",
      "Predicción: [0.48785754]\n",
      "error [0.2622899]\n",
      "Predicción: [0.53495837]\n",
      "error [0.28618046]\n",
      "mse: 0.071545114589287\n"
     ]
    }
   ],
   "source": [
    "for i in range(4):\n",
    "    z1_1 = (X[i,0] * W1_1) + (X[i,1] * W2_1) + b1_1\n",
    "    z1_2 = (X[i,0] * W3_1) + (X[i,1] * W4_1) + b1_2 \n",
    "    a_1 = 1 / (1 + np.exp(-z1_1))\n",
    "    a_2 = 1 / (1 + np.exp(-z1_2))\n",
    "    yhat = (a_1 * W1_2) + (a_2 * W2_2) + b2_1\n",
    "    error = (yhat - y[i])**2\n",
    "    print(\"Predicción:\", yhat)\n",
    "    print(\"error\", error)\n",
    "\n",
    "mse = 1/4 * (np.sum(error))\n",
    "print(\"mse:\" , mse)"
   ]
  },
  {
   "cell_type": "code",
   "execution_count": null,
   "id": "cafb3204",
   "metadata": {},
   "outputs": [],
   "source": []
  },
  {
   "cell_type": "code",
   "execution_count": null,
   "id": "af7b3e91",
   "metadata": {},
   "outputs": [],
   "source": []
  }
 ],
 "metadata": {
  "kernelspec": {
   "display_name": "ap",
   "language": "python",
   "name": "ap"
  },
  "language_info": {
   "codemirror_mode": {
    "name": "ipython",
    "version": 3
   },
   "file_extension": ".py",
   "mimetype": "text/x-python",
   "name": "python",
   "nbconvert_exporter": "python",
   "pygments_lexer": "ipython3",
   "version": "3.9.1"
  }
 },
 "nbformat": 4,
 "nbformat_minor": 5
}
