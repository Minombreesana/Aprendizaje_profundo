{
 "cells": [
  {
   "cell_type": "code",
   "execution_count": 1,
   "id": "4d281266",
   "metadata": {},
   "outputs": [],
   "source": [
    "import numpy as np\n",
    "import matplotlib.pyplot as plt"
   ]
  },
  {
   "cell_type": "markdown",
   "id": "c52e606b",
   "metadata": {},
   "source": [
    "# CLASE 1"
   ]
  },
  {
   "cell_type": "markdown",
   "id": "f69affe2",
   "metadata": {},
   "source": [
    "### 1) Implementación SGD para resolver XOR"
   ]
  },
  {
   "cell_type": "markdown",
   "id": "53fd6f42",
   "metadata": {},
   "source": [
    "#### Inicializamos parámetros"
   ]
  },
  {
   "cell_type": "code",
   "execution_count": 67,
   "id": "0ce4266d",
   "metadata": {},
   "outputs": [],
   "source": [
    "#Layer 1\n",
    "\n",
    "W1_1 = np.random.rand(1)\n",
    "W2_1 = np.random.rand(1)\n",
    "W3_1 = np.random.rand(1)\n",
    "W4_1 = np.random.rand(1)\n",
    "b1_1 = np.random.rand(1)\n",
    "b1_2 = np.random.rand(1)\n",
    "\n",
    "#Layer 2\n",
    "\n",
    "W1_2 = np.random.rand(1)\n",
    "W2_2 = np.random.rand(1)\n",
    "b2_1 = np.random.rand(1)"
   ]
  },
  {
   "cell_type": "code",
   "execution_count": 68,
   "id": "2333688f",
   "metadata": {},
   "outputs": [],
   "source": [
    "X = np.array([[0,0],[0,1],[1,0],[1,1]])\n",
    "y = np.array([[0],[1],[1],[0]])"
   ]
  },
  {
   "cell_type": "code",
   "execution_count": 69,
   "id": "756ebe5c",
   "metadata": {},
   "outputs": [
    {
     "name": "stdout",
     "output_type": "stream",
     "text": [
      "mse on epoch 0 is 0.233\n",
      "mse on epoch 20 is 0.173\n",
      "mse on epoch 40 is 0.137\n",
      "mse on epoch 60 is 0.114\n",
      "mse on epoch 80 is 0.099\n",
      "mse on epoch 100 is 0.089\n",
      "mse on epoch 120 is 0.083\n",
      "mse on epoch 140 is 0.079\n",
      "mse on epoch 160 is 0.076\n",
      "mse on epoch 180 is 0.074\n",
      "mse on epoch 200 is 0.072\n",
      "mse on epoch 220 is 0.071\n",
      "mse on epoch 240 is 0.070\n",
      "mse on epoch 260 is 0.070\n",
      "mse on epoch 280 is 0.070\n"
     ]
    }
   ],
   "source": [
    "mse_historic = []\n",
    "\n",
    "for epochs in range(300):\n",
    "    \n",
    "    for i in range(4):\n",
    "        lr = 0.001\n",
    "        z1_1 = (X[i,0] * W1_1) + (X[i,1] * W2_1) + b1_1\n",
    "        z1_2 = (X[i,0] * W3_1) + (X[i,1] * W4_1) + b1_2 \n",
    "        a_1 = 1 / (1 + np.exp(-z1_1))\n",
    "        a_2 = 1 / (1 + np.exp(-z1_2))\n",
    "        yhat = (a_1 * W1_2) + (a_2 * W2_2) + b2_1\n",
    "        #definir el error\n",
    "        error = (yhat - y[i])**2\n",
    "        #calcular derivada\n",
    "        dc = 2 * (yhat - y[i])\n",
    "        dz_a1 = W1_2\n",
    "        dz_a2 = W2_2\n",
    "        da1 = np.exp(-z1_1)/(( np.exp(-z1_1) +1)**2)\n",
    "        da2 = np.exp(-z1_2)/(( np.exp(-z1_2) +1)**2)\n",
    "        dw1_1 = dc * dz_a1 * da1 * X[i,0]\n",
    "        dw2_1 = dc * dz_a1 * da1 * X[i,1]\n",
    "        dw3_1 = dc * dz_a2 * da2 * X[i,0]\n",
    "        dw4_1 = dc * dz_a2 * da2 * X[i,1]\n",
    "        db1_1 = dc * dz_a1 * da1\n",
    "        db1_2 = dc * dz_a2 * da2\n",
    "        dw1_2 = dc * a_1\n",
    "        dw2_2 = dc * a_2\n",
    "        db2_1 = dc\n",
    "        \n",
    "        #actualizar parámetros\n",
    "        W1_1 = W1_1 - (lr * dw1_1)\n",
    "        W2_1 = W2_1 - (lr * dw2_1)\n",
    "        W3_1 = W3_1 - (lr * dw3_1)\n",
    "        W4_1 = W4_1 - (lr * dw4_1)\n",
    "        b1_1 = b1_1 - (lr * db1_1)\n",
    "        b1_2 = b1_2 - (lr * db1_2)\n",
    "        W1_2 = W1_2 - (lr * dw1_2)\n",
    "        W2_2 = W2_2 - (lr * dw2_2)\n",
    "        b2_1 = b2_1 - (lr * db2_1)\n",
    "\n",
    "        \n",
    "    mse = 1/4 * (np.sum(error))\n",
    "    mse_historic.append(mse)\n",
    "    if(epochs % 20 == 0):\n",
    "        print(f\"mse on epoch {epochs} is {mse:5.3f}\")\n",
    "        \n"
   ]
  },
  {
   "cell_type": "code",
   "execution_count": 70,
   "id": "39dcdcd0",
   "metadata": {},
   "outputs": [
    {
     "data": {
      "image/png": "[encoded data removed]",
      "text/plain": [
       "<Figure size 864x576 with 1 Axes>"
      ]
     },
     "metadata": {
      "needs_background": "light"
     },
     "output_type": "display_data"
    }
   ],
   "source": [
    "plt.figure(figsize=(12,8))\n",
    "plt.plot(mse_historic, color='blue', label='mse')\n",
    "plt.grid(True)\n",
    "plt.legend()\n",
    "plt.show()"
   ]
  },
  {
   "cell_type": "markdown",
   "id": "46eed72f",
   "metadata": {},
   "source": [
    "b)El modelo tiene 9 parámetros desconocidos: 4 pesos y dos bias en la primera capa + 2 pesos y un bias en la segunda. \n",
    "\n",
    "c) Los hiperparámetros del modelos son: los epochs y el learning rate. \n",
    "\n",
    "Cuando se cambia el lr hacia un valor grande como 0.1, converge más rápido a un mínimo local pero se estanca en él. Cuando lo ponemos en un valor muy muy pequeño, le cuesta converger a algún mínimo, en ese caso toca compensar con más epochs. En este modelo me resultó muy bien el lr = 0.001 con 300 epochs. "
   ]
  },
  {
   "cell_type": "markdown",
   "id": "00162904",
   "metadata": {},
   "source": [
    "d) Predicción"
   ]
  },
  {
   "cell_type": "code",
   "execution_count": 71,
   "id": "21453fc2",
   "metadata": {},
   "outputs": [],
   "source": [
    "X_test = np.array([[0,1],[0,0],[1,1],[0,1]])\n",
    "y_test = np.array([[1],[0],[0],[1]])"
   ]
  },
  {
   "cell_type": "markdown",
   "id": "a262a72c",
   "metadata": {},
   "source": [
    "Parámetros que obtenemos del modelo"
   ]
  },
  {
   "cell_type": "code",
   "execution_count": 72,
   "id": "44d253a5",
   "metadata": {},
   "outputs": [
    {
     "name": "stdout",
     "output_type": "stream",
     "text": [
      "[0.90854137]\n",
      "[0.74411741]\n",
      "[0.13269716]\n",
      "[0.88496742]\n",
      "[0.52505783]\n",
      "[0.79437479]\n",
      "[-0.13025213]\n",
      "[0.43751502]\n",
      "[0.26550423]\n"
     ]
    }
   ],
   "source": [
    "print(W1_1)\n",
    "print(W2_1)\n",
    "print(W3_1)\n",
    "print(W4_1)\n",
    "print(b1_1)\n",
    "print(b1_2)\n",
    "print(W1_2)\n",
    "print(W2_2)\n",
    "print(b2_1)     "
   ]
  },
  {
   "cell_type": "code",
   "execution_count": 73,
   "id": "b7c3843e",
   "metadata": {},
   "outputs": [
    {
     "name": "stdout",
     "output_type": "stream",
     "text": [
      "Predicción: [0.48501013]\n",
      "error [0.23523483]\n",
      "Predicción: [0.53257449]\n",
      "error [0.2184866]\n",
      "Predicción: [0.47380179]\n",
      "error [0.27688455]\n",
      "Predicción: [0.52459927]\n",
      "error [0.2752044]\n",
      "mse: 0.06880109981043254\n"
     ]
    }
   ],
   "source": [
    "for i in range(4):\n",
    "    z1_1 = (X[i,0] * W1_1) + (X[i,1] * W2_1) + b1_1\n",
    "    z1_2 = (X[i,0] * W3_1) + (X[i,1] * W4_1) + b1_2 \n",
    "    a_1 = 1 / (1 + np.exp(-z1_1))\n",
    "    a_2 = 1 / (1 + np.exp(-z1_2))\n",
    "    yhat = (a_1 * W1_2) + (a_2 * W2_2) + b2_1\n",
    "    error = (yhat - y[i])**2\n",
    "    print(\"Predicción:\", yhat)\n",
    "    print(\"error\", error)\n",
    "\n",
    "mse = 1/4 * (np.sum(error))\n",
    "print(\"mse:\" , mse)"
   ]
  },
  {
   "cell_type": "code",
   "execution_count": null,
   "id": "cafb3204",
   "metadata": {},
   "outputs": [],
   "source": []
  },
  {
   "cell_type": "code",
   "execution_count": null,
   "id": "af7b3e91",
   "metadata": {},
   "outputs": [],
   "source": []
  }
 ],
 "metadata": {
  "kernelspec": {
   "display_name": "ap",
   "language": "python",
   "name": "ap"
  },
  "language_info": {
   "codemirror_mode": {
    "name": "ipython",
    "version": 3
   },
   "file_extension": ".py",
   "mimetype": "text/x-python",
   "name": "python",
   "nbconvert_exporter": "python",
   "pygments_lexer": "ipython3",
   "version": "3.9.1"
  }
 },
 "nbformat": 4,
 "nbformat_minor": 5
}
